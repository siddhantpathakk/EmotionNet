{
 "cells": [
  {
   "cell_type": "code",
   "execution_count": 1,
   "metadata": {},
   "outputs": [],
   "source": [
    "import pandas as pd\n",
    "import random\n",
    "import numpy as np\n",
    "\n",
    "from audio.inference.utils import *\n",
    "from audio.inference.utils import load_model_from_ckpt"
   ]
  },
  {
   "cell_type": "code",
   "execution_count": 3,
   "metadata": {},
   "outputs": [],
   "source": [
    "pkl_path = 'audio/MELD_features/MELD_features_raw.pkl'\n",
    "videoIDs, videoSpeakers, videoLabels, videoText, videoAudio, videoSentence, trainVid, testVid, labels = pd.read_pickle(pkl_path)"
   ]
  },
  {
   "cell_type": "code",
   "execution_count": null,
   "metadata": {},
   "outputs": [],
   "source": [
    "# label_map = {'neutral': 0, 'surprise': 1, 'fear': 2, 'sadness': 3, 'joy': 4, 'disgust': 5, 'anger':6}\n",
    "random_idx = random.randint(0, len(videoSentence))\n",
    "load_conversation(1)"
   ]
  },
  {
   "cell_type": "code",
   "execution_count": 4,
   "metadata": {},
   "outputs": [
    {
     "name": "stdout",
     "output_type": "stream",
     "text": [
      "MoviePy - Writing audio in example/dia1_utt0.wav\n"
     ]
    },
    {
     "name": "stderr",
     "output_type": "stream",
     "text": [
      "                                                       "
     ]
    },
    {
     "name": "stdout",
     "output_type": "stream",
     "text": [
      "MoviePy - Done.\n"
     ]
    },
    {
     "name": "stderr",
     "output_type": "stream",
     "text": [
      "\r"
     ]
    },
    {
     "name": "stdout",
     "output_type": "stream",
     "text": [
      "MoviePy - Writing audio in example/dia1_utt1.wav\n"
     ]
    },
    {
     "name": "stderr",
     "output_type": "stream",
     "text": [
      "                                                       "
     ]
    },
    {
     "name": "stdout",
     "output_type": "stream",
     "text": [
      "MoviePy - Done.\n"
     ]
    },
    {
     "name": "stderr",
     "output_type": "stream",
     "text": [
      "\r"
     ]
    },
    {
     "name": "stdout",
     "output_type": "stream",
     "text": [
      "MoviePy - Writing audio in example/dia1_utt2.wav\n"
     ]
    },
    {
     "name": "stderr",
     "output_type": "stream",
     "text": [
      "                                                        "
     ]
    },
    {
     "name": "stdout",
     "output_type": "stream",
     "text": [
      "MoviePy - Done.\n"
     ]
    },
    {
     "name": "stderr",
     "output_type": "stream",
     "text": [
      "\r"
     ]
    },
    {
     "name": "stdout",
     "output_type": "stream",
     "text": [
      "MoviePy - Writing audio in example/dia1_utt3.wav\n"
     ]
    },
    {
     "name": "stderr",
     "output_type": "stream",
     "text": [
      "                                                       "
     ]
    },
    {
     "name": "stdout",
     "output_type": "stream",
     "text": [
      "MoviePy - Done.\n"
     ]
    },
    {
     "name": "stderr",
     "output_type": "stream",
     "text": [
      "\r"
     ]
    },
    {
     "name": "stdout",
     "output_type": "stream",
     "text": [
      "MoviePy - Writing audio in example/dia1_utt4.wav\n"
     ]
    },
    {
     "name": "stderr",
     "output_type": "stream",
     "text": [
      "                                                       "
     ]
    },
    {
     "name": "stdout",
     "output_type": "stream",
     "text": [
      "MoviePy - Done.\n"
     ]
    },
    {
     "name": "stderr",
     "output_type": "stream",
     "text": [
      "\r"
     ]
    },
    {
     "name": "stdout",
     "output_type": "stream",
     "text": [
      "MoviePy - Writing audio in example/dia1_utt5.wav\n"
     ]
    },
    {
     "name": "stderr",
     "output_type": "stream",
     "text": [
      "                                                       "
     ]
    },
    {
     "name": "stdout",
     "output_type": "stream",
     "text": [
      "MoviePy - Done.\n"
     ]
    },
    {
     "name": "stderr",
     "output_type": "stream",
     "text": [
      "\r"
     ]
    },
    {
     "name": "stdout",
     "output_type": "stream",
     "text": [
      "MoviePy - Writing audio in example/dia1_utt8.wav\n"
     ]
    },
    {
     "name": "stderr",
     "output_type": "stream",
     "text": [
      "                                                       "
     ]
    },
    {
     "name": "stdout",
     "output_type": "stream",
     "text": [
      "MoviePy - Done.\n"
     ]
    },
    {
     "name": "stderr",
     "output_type": "stream",
     "text": [
      "\r"
     ]
    }
   ],
   "source": [
    "dialogue_dir = 'example'\n",
    "speakers_for_utterance = [1,2,2,2,1,1,2]\n",
    "acouf, qmask, umask = get_features_for_dialogue(dialogue_dir=dialogue_dir, X=speakers_for_utterance)"
   ]
  },
  {
   "cell_type": "code",
   "execution_count": 7,
   "metadata": {},
   "outputs": [],
   "source": [
    "model = load_model_from_ckpt('audio/MELD_features/models/EmoNet_38.pt')"
   ]
  },
  {
   "cell_type": "code",
   "execution_count": 8,
   "metadata": {},
   "outputs": [
    {
     "data": {
      "text/plain": [
       "EmotionNet(\n",
       "  (dropout): Dropout(p=0.5, inplace=False)\n",
       "  (emo_rnn_b): EmotionRNN(\n",
       "    (dropout): Dropout(p=0.5, inplace=False)\n",
       "    (cell): EmotionGRUCell(\n",
       "      (g_cell): GRUCell(600, 150)\n",
       "      (p_cell): GRUCell(450, 150)\n",
       "      (pl_cell): GRUCell(450, 150)\n",
       "      (r_cell): GRUCell(450, 150)\n",
       "      (rl_cell): GRUCell(450, 150)\n",
       "      (e_cell): GRUCell(600, 150)\n",
       "      (dropout): Dropout(p=0.5, inplace=False)\n",
       "      (attention): SimpleAttention(\n",
       "        (scalar): Linear(in_features=150, out_features=1, bias=False)\n",
       "      )\n",
       "    )\n",
       "  )\n",
       "  (emo_rnn_f): EmotionRNN(\n",
       "    (dropout): Dropout(p=0.5, inplace=False)\n",
       "    (cell): EmotionGRUCell(\n",
       "      (g_cell): GRUCell(600, 150)\n",
       "      (p_cell): GRUCell(450, 150)\n",
       "      (pl_cell): GRUCell(450, 150)\n",
       "      (r_cell): GRUCell(450, 150)\n",
       "      (rl_cell): GRUCell(450, 150)\n",
       "      (e_cell): GRUCell(600, 150)\n",
       "      (dropout): Dropout(p=0.5, inplace=False)\n",
       "      (attention): SimpleAttention(\n",
       "        (scalar): Linear(in_features=150, out_features=1, bias=False)\n",
       "      )\n",
       "    )\n",
       "  )\n",
       "  (linear): Linear(in_features=300, out_features=100, bias=True)\n",
       "  (smax_fc): Linear(in_features=100, out_features=7, bias=True)\n",
       ")"
      ]
     },
     "execution_count": 8,
     "metadata": {},
     "output_type": "execute_result"
    }
   ],
   "source": [
    "model"
   ]
  },
  {
   "cell_type": "code",
   "execution_count": 10,
   "metadata": {},
   "outputs": [],
   "source": [
    "preds = run_inference(model, acouf.unsqueeze(1), qmask.unsqueeze(1), umask.unsqueeze(0))"
   ]
  },
  {
   "cell_type": "code",
   "execution_count": 11,
   "metadata": {},
   "outputs": [
    {
     "name": "stdout",
     "output_type": "stream",
     "text": [
      "Loading dialogue #1 with 2 speakers, 7 utterances.\n",
      "\n",
      "[#1] Person 2 (True:surprise, Pred:fear)\t:\tBut then who? The waitress I went out with last month?\n",
      "[#2] Person 1 (True:sadness, Pred:surprise)\t:\tYou know? Forget it!\n",
      "[#3] Person 2 (True:surprise, Pred:surprise)\t:\tNo-no-no-no, no! Who, who were you talking about?\n",
      "[#4] Person 1 (True:fear, Pred:sadness)\t:\tNo, I-I-I-I don't, I actually don't know\n",
      "[#5] Person 2 (True:neutral, Pred:neutral)\t:\tOk!\n",
      "[#6] Person 2 (True:neutral, Pred:fear)\t:\tAll right, well...\n",
      "[#7] Person 1 (True:neutral, Pred:neutral)\t:\tYeah, sure!\n"
     ]
    }
   ],
   "source": [
    "load_conversation(1, preds)\n",
    "# actual_emotion - predicted_emotion"
   ]
  }
 ],
 "metadata": {
  "kernelspec": {
   "display_name": "nndl_project",
   "language": "python",
   "name": "python3"
  },
  "language_info": {
   "codemirror_mode": {
    "name": "ipython",
    "version": 3
   },
   "file_extension": ".py",
   "mimetype": "text/x-python",
   "name": "python",
   "nbconvert_exporter": "python",
   "pygments_lexer": "ipython3",
   "version": "3.10.4"
  }
 },
 "nbformat": 4,
 "nbformat_minor": 2
}
