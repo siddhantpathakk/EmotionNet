{
 "cells": [
  {
   "cell_type": "code",
   "execution_count": 75,
   "metadata": {},
   "outputs": [],
   "source": [
    "import pickle\n",
    "import matplotlib.pyplot as plt\n",
    "import pandas as pd"
   ]
  },
  {
   "cell_type": "code",
   "execution_count": 76,
   "metadata": {},
   "outputs": [],
   "source": [
    "raw_features_pkl_filepath = './MELD_features/MELD_features_raw.pkl'"
   ]
  },
  {
   "cell_type": "code",
   "execution_count": 77,
   "metadata": {},
   "outputs": [],
   "source": [
    "videoIDs, videoSpeakers, videoLabels, videoText, \\\n",
    "    videoAudio, videoSentence, trainVid, testVid, vids = pickle.load(open(raw_features_pkl_filepath, 'rb'))"
   ]
  },
  {
   "cell_type": "markdown",
   "metadata": {},
   "source": [
    "Basic statistics of the dataset"
   ]
  },
  {
   "cell_type": "code",
   "execution_count": 78,
   "metadata": {},
   "outputs": [
    {
     "name": "stdout",
     "output_type": "stream",
     "text": [
      "Total number of videos\t: 1432\n",
      "Number of train videos\t: 1152\n",
      "Number of test videos\t: 280\n",
      "Total number of utterances in 1432 videos\t: 13708\n",
      "Average number of utterances in one video\t: 9.572625698324023\n"
     ]
    }
   ],
   "source": [
    "import numpy as np\n",
    "print(f\"Total number of videos\\t: {len(videoIDs)}\")\n",
    "print(f'Number of train videos\\t: {len(trainVid)}')\n",
    "print(f'Number of test videos\\t: {len(testVid)}')\n",
    "\n",
    "\n",
    "n = list(videoIDs.keys())\n",
    "utt = 0\n",
    "for i in n:\n",
    "    utt += len(videoIDs[i])\n",
    "\n",
    "print(f'Total number of utterances in {len(n)} videos\\t: {utt}')\n",
    "print(f'Average number of utterances in one video\\t: {utt/len(n)}')"
   ]
  },
  {
   "cell_type": "markdown",
   "metadata": {},
   "source": [
    "Distribution of labels"
   ]
  },
  {
   "cell_type": "code",
   "execution_count": 79,
   "metadata": {},
   "outputs": [
    {
     "data": {
      "text/plain": [
       "<Axes: xlabel='label'>"
      ]
     },
     "execution_count": 79,
     "metadata": {},
     "output_type": "execute_result"
    },
    {
     "data": {
      "image/png": "[encoded data removed]",
      "text/plain": [
       "<Figure size 432x288 with 1 Axes>"
      ]
     },
     "metadata": {
      "needs_background": "light"
     },
     "output_type": "display_data"
    }
   ],
   "source": [
    "labels = []\n",
    "for i in list(videoLabels.values()):\n",
    "    labels.extend(i)\n",
    "    \n",
    "labels_df = pd.DataFrame(labels, columns=['label'])\n",
    "\n",
    "labels_map = {0: 'neutral', 1: 'surprise', \n",
    "              2: 'fear', 3: 'sadness',\n",
    "              4: 'joy', 5: 'disgust', 6: 'anger'}\n",
    "\n",
    "def map_label(orig):\n",
    "    return labels_map[orig]\n",
    "\n",
    "labels_df['label'] = labels_df['label'].apply(map_label)\n",
    "\n",
    "labels_df.value_counts().plot(kind='bar')"
   ]
  },
  {
   "cell_type": "markdown",
   "metadata": {},
   "source": [
    "Printing some random conversation"
   ]
  },
  {
   "cell_type": "code",
   "execution_count": null,
   "metadata": {},
   "outputs": [],
   "source": [
    "def map_speakers_to_int(videoSpeakers):\n",
    "    unique_speakers = {}\n",
    "    speaker_id = 1  # Start numbering speakers from 1\n",
    "\n",
    "    # Assign a unique integer to each unique speaker vector\n",
    "    for speaker_vector in videoSpeakers:\n",
    "        \n",
    "        # Convert the vector to a tuple to use it as a key in the dictionary\n",
    "        speaker_tuple = tuple(speaker_vector)\n",
    "        if speaker_tuple not in unique_speakers:\n",
    "            unique_speakers[speaker_tuple] = speaker_id\n",
    "            speaker_id += 1\n",
    "\n",
    "    return unique_speakers, len(unique_speakers)"
   ]
  },
  {
   "cell_type": "code",
   "execution_count": 129,
   "metadata": {},
   "outputs": [
    {
     "name": "stdout",
     "output_type": "stream",
     "text": [
      "Random conversation #1410\n",
      "Speakers in the video : 2\n",
      "\n",
      "Speaker 1 (neutral) \t:\t Oh, yeah, yeah, sure. We live in the building by the uh sidewalk.\n",
      "Speaker 2 (surprise) \t:\t You know it?\n",
      "Speaker 1 (neutral) \t:\t Hey, look, since we're neighbors and all, what do you say we uh, get together for a drink?\n",
      "Speaker 2 (neutral) \t:\t Oh, sure, they love us over there.\n",
      "Speaker 1 (joy) \t:\t Ben! Ben! Ben!\n"
     ]
    }
   ],
   "source": [
    "random_idx = np.random.randint(0, len(videoIDs))\n",
    "print(f'Random conversation #{random_idx}')\n",
    "\n",
    "speakers, unique_speakers = map_speakers_to_int(videoSpeakers[random_idx])\n",
    "\n",
    "print(f'Speakers in the video : {unique_speakers}\\n')\n",
    "for i, j, k in zip(videoSentence[random_idx], videoSpeakers[random_idx], videoLabels[random_idx]):\n",
    "    print(f'Speaker {speakers[tuple(j)]} ({labels_map[k]}) \\t:\\t {i}')"
   ]
  },
  {
   "cell_type": "code",
   "execution_count": null,
   "metadata": {},
   "outputs": [],
   "source": []
  }
 ],
 "metadata": {
  "kernelspec": {
   "display_name": "nndl_project",
   "language": "python",
   "name": "python3"
  },
  "language_info": {
   "codemirror_mode": {
    "name": "ipython",
    "version": 3
   },
   "file_extension": ".py",
   "mimetype": "text/x-python",
   "name": "python",
   "nbconvert_exporter": "python",
   "pygments_lexer": "ipython3",
   "version": "3.10.4"
  }
 },
 "nbformat": 4,
 "nbformat_minor": 2
}
