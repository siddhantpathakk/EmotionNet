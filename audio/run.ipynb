{
 "cells": [
  {
   "cell_type": "code",
   "execution_count": 51,
   "metadata": {},
   "outputs": [
    {
     "name": "stdout",
     "output_type": "stream",
     "text": [
      "torch.Size([72, 150])\n",
      "torch.Size([8, 150])\n",
      "Traceback (most recent call last):\n",
      "  File \"/Users/siddhantpathak/Desktop/Projects/neural_networks/audio/main.py\", line 77, in <module>\n",
      "    train_loss, train_acc, _, _, _, train_fscore, _ = train_or_eval_model(model=model, \n",
      "  File \"/Users/siddhantpathak/Desktop/Projects/neural_networks/audio/trainer.py\", line 36, in train_or_eval_model\n",
      "    log_prob, alpha_f, alpha_b = model(acouf, qmask, umask)\n",
      "  File \"/Users/siddhantpathak/anaconda3/envs/nndl_project/lib/python3.10/site-packages/torch/nn/modules/module.py\", line 1194, in _call_impl\n",
      "    return forward_call(*input, **kwargs)\n",
      "  File \"/Users/siddhantpathak/Desktop/Projects/neural_networks/audio/model.py\", line 194, in forward\n",
      "    emotions_f, alpha_f = self.emo_rnn_f(U, qmask) # seq_len, batch, D_e\n",
      "  File \"/Users/siddhantpathak/anaconda3/envs/nndl_project/lib/python3.10/site-packages/torch/nn/modules/module.py\", line 1194, in _call_impl\n",
      "    return forward_call(*input, **kwargs)\n",
      "  File \"/Users/siddhantpathak/Desktop/Projects/neural_networks/audio/model.py\", line 149, in forward\n",
      "    g_, q_, r_, e_, alpha_ = self.cell(u_, qmask_, g_hist, q_, r_, e_)\n",
      "  File \"/Users/siddhantpathak/anaconda3/envs/nndl_project/lib/python3.10/site-packages/torch/nn/modules/module.py\", line 1194, in _call_impl\n",
      "    return forward_call(*input, **kwargs)\n",
      "  File \"/Users/siddhantpathak/Desktop/Projects/neural_networks/audio/model.py\", line 98, in forward\n",
      "    inp_pl = torch.cat([g_, ss_], dim=1)\n",
      "RuntimeError: Sizes of tensors must match except in dimension 1. Expected size 8 but got size 72 for tensor number 1 in the list.\n"
     ]
    }
   ],
   "source": [
    "!python main.py"
   ]
  },
  {
   "cell_type": "code",
   "execution_count": null,
   "metadata": {},
   "outputs": [],
   "source": []
  }
 ],
 "metadata": {
  "kernelspec": {
   "display_name": "nndl_project",
   "language": "python",
   "name": "python3"
  },
  "language_info": {
   "codemirror_mode": {
    "name": "ipython",
    "version": 3
   },
   "file_extension": ".py",
   "mimetype": "text/x-python",
   "name": "python",
   "nbconvert_exporter": "python",
   "pygments_lexer": "ipython3",
   "version": "3.10.4"
  }
 },
 "nbformat": 4,
 "nbformat_minor": 2
}
