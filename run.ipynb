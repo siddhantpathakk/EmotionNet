{
 "cells": [
  {
   "cell_type": "code",
   "execution_count": 81,
   "metadata": {},
   "outputs": [
    {
     "name": "stdout",
     "output_type": "stream",
     "text": [
      "Namespace(no_cuda=True, dir='MELD_features/', lr=0.0001, l2=0.0003, dropout=0.5, batch_size=8, epochs=2, class_weight=False, seed=100, mu=0, verbose=True)\n",
      "Running on CPU\n",
      "EmoNet model.\n",
      "EmoNet(\n",
      "  (dropout): Dropout(p=0.5, inplace=False)\n",
      "  (emo_rnn_b): EmotionRNN(\n",
      "    (dropout): Dropout(p=0.5, inplace=False)\n",
      "    (cell): EmotionGRUCell(\n",
      "      (g_cell): GRUCell(600, 150)\n",
      "      (p_cell): GRUCell(450, 150)\n",
      "      (pl_cell): GRUCell(450, 150)\n",
      "      (r_cell): GRUCell(450, 150)\n",
      "      (rl_cell): GRUCell(450, 150)\n",
      "      (e_cell): GRUCell(600, 150)\n",
      "      (dropout): Dropout(p=0.5, inplace=False)\n",
      "      (attention): SimpleAttention(\n",
      "        (scalar): Linear(in_features=150, out_features=1, bias=False)\n",
      "      )\n",
      "    )\n",
      "  )\n",
      "  (emo_rnn_f): EmotionRNN(\n",
      "    (dropout): Dropout(p=0.5, inplace=False)\n",
      "    (cell): EmotionGRUCell(\n",
      "      (g_cell): GRUCell(600, 150)\n",
      "      (p_cell): GRUCell(450, 150)\n",
      "      (pl_cell): GRUCell(450, 150)\n",
      "      (r_cell): GRUCell(450, 150)\n",
      "      (rl_cell): GRUCell(450, 150)\n",
      "      (e_cell): GRUCell(600, 150)\n",
      "      (dropout): Dropout(p=0.5, inplace=False)\n",
      "      (attention): SimpleAttention(\n",
      "        (scalar): Linear(in_features=150, out_features=1, bias=False)\n",
      "      )\n",
      "    )\n",
      "  )\n",
      "  (linear): Linear(in_features=300, out_features=100, bias=True)\n",
      "  (smax_fc): Linear(in_features=100, out_features=7, bias=True)\n",
      ")\n",
      "Loss function:\tMaskedNLLLoss\n",
      "Optimizer:\tAdam\n",
      "\n",
      "Training started..\n",
      "Epoch:[1]/[2]\ttrain_loss:1.670\ttrain_acc:43.330\ttrain_fscore:30.330\tval_loss:1.528\tval_acc:47.450\tval_fscore:30.540\ttest_loss:1.525\ttest_acc:48.120\ttest_fscore:31.270\ttime:29.05 sec\n",
      "Epoch:[2]/[2]\ttrain_loss:1.612\ttrain_acc:45.360\ttrain_fscore:30.380\tval_loss:1.507\tval_acc:47.450\tval_fscore:30.540\ttest_loss:1.505\ttest_acc:48.120\ttest_fscore:31.270\ttime:24.92 sec\n",
      "\n",
      "Test performance..\n",
      "Fscore: 31.27 accuracy: 48.12%\n",
      "              precision    recall  f1-score   support\n",
      "\n",
      "           0     0.4812    1.0000    0.6498    1256.0\n",
      "           1     0.0000    0.0000    0.0000     281.0\n",
      "           2     0.0000    0.0000    0.0000      50.0\n",
      "           3     0.0000    0.0000    0.0000     208.0\n",
      "           4     0.0000    0.0000    0.0000     402.0\n",
      "           5     0.0000    0.0000    0.0000      68.0\n",
      "           6     0.0000    0.0000    0.0000     345.0\n",
      "\n",
      "    accuracy                         0.4812    2610.0\n",
      "   macro avg     0.0687    0.1429    0.0928    2610.0\n",
      "weighted avg     0.2316    0.4812    0.3127    2610.0\n",
      "\n",
      "[[1256.    0.    0.    0.    0.    0.    0.]\n",
      " [ 281.    0.    0.    0.    0.    0.    0.]\n",
      " [  50.    0.    0.    0.    0.    0.    0.]\n",
      " [ 208.    0.    0.    0.    0.    0.    0.]\n",
      " [ 402.    0.    0.    0.    0.    0.    0.]\n",
      " [  68.    0.    0.    0.    0.    0.    0.]\n",
      " [ 345.    0.    0.    0.    0.    0.    0.]]\n",
      "\n",
      "Model saved to models/EmoNet_31.pt.\n",
      "\n",
      "Metrics saved to MELD_features/logs/metrics.csv.\n"
     ]
    }
   ],
   "source": [
    "!python main.py"
   ]
  },
  {
   "cell_type": "code",
   "execution_count": null,
   "metadata": {},
   "outputs": [],
   "source": []
  }
 ],
 "metadata": {
  "kernelspec": {
   "display_name": "nndl_project",
   "language": "python",
   "name": "python3"
  },
  "language_info": {
   "codemirror_mode": {
    "name": "ipython",
    "version": 3
   },
   "file_extension": ".py",
   "mimetype": "text/x-python",
   "name": "python",
   "nbconvert_exporter": "python",
   "pygments_lexer": "ipython3",
   "version": "3.10.4"
  }
 },
 "nbformat": 4,
 "nbformat_minor": 2
}
